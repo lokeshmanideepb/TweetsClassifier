{
 "cells": [
  {
   "cell_type": "code",
   "execution_count": 1,
   "metadata": {
    "colab": {},
    "colab_type": "code",
    "id": "vogrCA5aYPtQ"
   },
   "outputs": [],
   "source": [
    "import numpy as np\n",
    "import pandas as pd\n",
    "%matplotlib inline\n",
    "import matplotlib.pyplot as plt\n",
    "import seaborn as sns\n",
    "import nltk\n",
    "import sklearn \n",
    "import string\n",
    "import warnings\n",
    "import re # helps you filter urls\n",
    "from scipy import sparse\n",
    "from IPython.display import display, Latex, Markdown\n",
    "warnings.filterwarnings('ignore')"
   ]
  },
  {
   "cell_type": "code",
   "execution_count": null,
   "metadata": {
    "colab": {},
    "colab_type": "code",
    "id": "wQGjuhliYPtV"
   },
   "outputs": [],
   "source": [
    "nltk.download('stopwords')\n",
    "nltk.download('wordnet')\n",
    "nltk.download('averaged_perceptron_tagger')\n",
    "nltk.download('omw-1.4')\n",
    "# Verify that the following commands work for you, before moving on.\n",
    "\n",
    "lemmatizer=nltk.stem.wordnet.WordNetLemmatizer()\n",
    "stopwords=nltk.corpus.stopwords.words('english')"
   ]
  },
  {
   "cell_type": "code",
   "execution_count": null,
   "metadata": {},
   "outputs": [],
   "source": [
    "nltk.download('punkt')"
   ]
  },
  {
   "cell_type": "code",
   "execution_count": 4,
   "metadata": {
    "colab": {},
    "colab_type": "code",
    "id": "B5IMtsQoYPta"
   },
   "outputs": [],
   "source": [
    "posMapping = {\n",
    "# \"First_Letter by nltk.pos_tag\":\"POS_for_lemmatizer\"\n",
    "    \"N\":'n',\n",
    "    \"V\":'v',\n",
    "    \"J\":'a',\n",
    "    \"R\":'r'\n",
    "}\n",
    "def process(text, lemmatizer=nltk.stem.wordnet.WordNetLemmatizer()):\n",
    "    lower_case_text = text.lower()\n",
    "    lower_case_text = lower_case_text.replace(\"'s\", \"\")\n",
    "    #lower_case_text = lower_case_text.replace(\"’s\", \"\")\n",
    "    #lower_case_text = lower_case_text.replace(\"’\", \"'\")\n",
    "    lower_case_text = lower_case_text.replace(\"'\", \"\")\n",
    "    http_pattern = r'https?://\\S+'\n",
    "    lower_case_text = re.sub(http_pattern, '', lower_case_text)\n",
    "    lower_case_text = lower_case_text.translate(str.maketrans(string.punctuation, ' ' * len(string.punctuation)))\n",
    "    tokens = nltk.word_tokenize(lower_case_text)\n",
    "    tokens = nltk.pos_tag(tokens)\n",
    "    token_list = []\n",
    "    for token in tokens:\n",
    "        try:\n",
    "            lem = lemmatizer.lemmatize(token[0],pos=posMapping.get(token[1][0:1],'n'))\n",
    "            token_list.append(lem)\n",
    "        except:\n",
    "            None\n",
    "    return token_list"
   ]
  },
  {
   "cell_type": "code",
   "execution_count": 6,
   "metadata": {
    "colab": {},
    "colab_type": "code",
    "id": "aEONT9fXYPti"
   },
   "outputs": [
    {
     "data": {
      "text/html": [
       "<div>\n",
       "<style scoped>\n",
       "    .dataframe tbody tr th:only-of-type {\n",
       "        vertical-align: middle;\n",
       "    }\n",
       "\n",
       "    .dataframe tbody tr th {\n",
       "        vertical-align: top;\n",
       "    }\n",
       "\n",
       "    .dataframe thead th {\n",
       "        text-align: right;\n",
       "    }\n",
       "</style>\n",
       "<table border=\"1\" class=\"dataframe\">\n",
       "  <thead>\n",
       "    <tr style=\"text-align: right;\">\n",
       "      <th></th>\n",
       "      <th>screen_name</th>\n",
       "      <th>text</th>\n",
       "    </tr>\n",
       "  </thead>\n",
       "  <tbody>\n",
       "    <tr>\n",
       "      <th>0</th>\n",
       "      <td>GOP</td>\n",
       "      <td>RT @GOPconvention: #Oregon votes today. That m...</td>\n",
       "    </tr>\n",
       "    <tr>\n",
       "      <th>1</th>\n",
       "      <td>TheDemocrats</td>\n",
       "      <td>RT @DWStweets: The choice for 2016 is clear: W...</td>\n",
       "    </tr>\n",
       "    <tr>\n",
       "      <th>2</th>\n",
       "      <td>HillaryClinton</td>\n",
       "      <td>Trump's calling for trillion dollar tax cuts f...</td>\n",
       "    </tr>\n",
       "    <tr>\n",
       "      <th>3</th>\n",
       "      <td>HillaryClinton</td>\n",
       "      <td>.@TimKaine's guiding principle: the belief tha...</td>\n",
       "    </tr>\n",
       "    <tr>\n",
       "      <th>4</th>\n",
       "      <td>timkaine</td>\n",
       "      <td>Glad the Senate could pass a #THUD / MilCon / ...</td>\n",
       "    </tr>\n",
       "  </tbody>\n",
       "</table>\n",
       "</div>"
      ],
      "text/plain": [
       "      screen_name                                               text\n",
       "0             GOP  RT @GOPconvention: #Oregon votes today. That m...\n",
       "1    TheDemocrats  RT @DWStweets: The choice for 2016 is clear: W...\n",
       "2  HillaryClinton  Trump's calling for trillion dollar tax cuts f...\n",
       "3  HillaryClinton  .@TimKaine's guiding principle: the belief tha...\n",
       "4        timkaine  Glad the Senate could pass a #THUD / MilCon / ..."
      ]
     },
     "metadata": {},
     "output_type": "display_data"
    }
   ],
   "source": [
    "tweets = pd.read_csv(\"tweets_train.csv\", na_filter=False)\n",
    "display(tweets.head())"
   ]
  },
  {
   "cell_type": "code",
   "execution_count": 7,
   "metadata": {
    "colab": {},
    "colab_type": "code",
    "id": "SM7hJBdOYPtl"
   },
   "outputs": [],
   "source": [
    "def process_all(df, lemmatizer=nltk.stem.wordnet.WordNetLemmatizer()):\n",
    "    processed_df = df.copy(deep=True)\n",
    "    processed_df['text'] = processed_df['text'].apply(lambda x: process(x,lemmatizer))\n",
    "    return processed_df"
   ]
  },
  {
   "cell_type": "code",
   "execution_count": 8,
   "metadata": {
    "colab": {},
    "colab_type": "code",
    "id": "lXQP6CAiYPto"
   },
   "outputs": [
    {
     "name": "stdout",
     "output_type": "stream",
     "text": [
      "      screen_name                                               text\n",
      "0             GOP  [rt, gopconvention, oregon, vote, today, that,...\n",
      "1    TheDemocrats  [rt, dwstweets, the, choice, for, 2016, be, cl...\n",
      "2  HillaryClinton  [trump, call, for, trillion, dollar, tax, cut,...\n",
      "3  HillaryClinton  [timkaine, guide, principle, the, belief, that...\n",
      "4        timkaine  [glad, the, senate, could, pass, a, thud, milc...\n"
     ]
    }
   ],
   "source": [
    "processed_tweets = process_all(tweets)\n",
    "print(processed_tweets.head())"
   ]
  },
  {
   "cell_type": "code",
   "execution_count": 9,
   "metadata": {
    "colab": {},
    "colab_type": "code",
    "id": "8NQ9wVm3YPt0"
   },
   "outputs": [],
   "source": [
    "# 11% credits\n",
    "def create_features(processed_tweets, stop_words):\n",
    "    vectorizer = sklearn.feature_extraction.text.TfidfVectorizer(tokenizer=lambda text:text, min_df=2, analyzer = 'word', stop_words=stop_words, lowercase=False)\n",
    "    vectorizer = vectorizer.fit(processed_tweets['text'])\n",
    "    tfidf_matrix = vectorizer.transform(processed_tweets['text'])\n",
    "    return vectorizer,tfidf_matrix\n",
    "    "
   ]
  },
  {
   "cell_type": "code",
   "execution_count": 10,
   "metadata": {
    "colab": {},
    "colab_type": "code",
    "id": "XXYtqEyvYPt4"
   },
   "outputs": [
    {
     "data": {
      "text/plain": [
       "(TfidfVectorizer(lowercase=False, min_df=2,\n",
       "                 stop_words=['i', 'me', 'my', 'myself', 'we', 'our', 'ours',\n",
       "                             'ourselves', 'you', 'youre', 'youve', 'youll',\n",
       "                             'youd', 'your', 'yours', 'yourself', 'yourselves',\n",
       "                             'he', 'him', 'his', 'himself', 'she', 'she', 'her',\n",
       "                             'hers', 'herself', 'it', 'it', 'it', 'itself', ...],\n",
       "                 tokenizer=<function create_features.<locals>.<lambda> at 0x1285d9440>),\n",
       " <17298x8116 sparse matrix of type '<class 'numpy.float64'>'\n",
       " \twith 169166 stored elements in Compressed Sparse Row format>)"
      ]
     },
     "execution_count": 10,
     "metadata": {},
     "output_type": "execute_result"
    }
   ],
   "source": [
    "processed_stopwords = list(np.concatenate([process(word) for word in stopwords]))\n",
    "(tfidf, X) = create_features(processed_tweets, processed_stopwords)\n",
    "tfidf, X"
   ]
  },
  {
   "cell_type": "code",
   "execution_count": 11,
   "metadata": {
    "colab": {},
    "colab_type": "code",
    "id": "bLtDPaInYPt7"
   },
   "outputs": [],
   "source": [
    "def create_labels(processed_tweets):\n",
    "    class_labels = []\n",
    "    republics = [\"realDonaldTrump\", \"mike_pence\" , \"GOP\"]\n",
    "    for screen_name in processed_tweets['screen_name']:\n",
    "        if screen_name in republics:\n",
    "            class_labels.append(0)\n",
    "        else:\n",
    "            class_labels.append(1)\n",
    "    return np.array(class_labels)"
   ]
  },
  {
   "cell_type": "code",
   "execution_count": null,
   "metadata": {
    "colab": {},
    "colab_type": "code",
    "id": "z49a4djKYPt-"
   },
   "outputs": [],
   "source": [
    "y = create_labels(processed_tweets)\n",
    "y"
   ]
  },
  {
   "cell_type": "code",
   "execution_count": 13,
   "metadata": {},
   "outputs": [],
   "source": [
    "from sklearn.metrics import accuracy_score"
   ]
  },
  {
   "cell_type": "code",
   "execution_count": 15,
   "metadata": {
    "colab": {},
    "colab_type": "code",
    "id": "xUBpZ6_NYPuB"
   },
   "outputs": [
    {
     "name": "stdout",
     "output_type": "stream",
     "text": [
      "Accuracy: 0.5001734304543878\n"
     ]
    }
   ],
   "source": [
    "class MajorityLabelClassifier():\n",
    "    def __init__(self):\n",
    "        self.mode = None\n",
    "\n",
    "    def fit(self, X, y):\n",
    "        self.mode = np.argmax(np.bincount(y))\n",
    "\n",
    "    def predict(self, X):\n",
    "        return np.full(X.shape[0], self.mode)\n",
    "\n",
    "\n",
    "baselineClf = MajorityLabelClassifier()\n",
    "baselineClf.fit(X,y)\n",
    "predicted_labels = baselineClf.predict(X)\n",
    "training_accuracy = accuracy_score(y, predicted_labels)\n",
    "print(\"Accuracy:\", training_accuracy)"
   ]
  },
  {
   "cell_type": "code",
   "execution_count": 16,
   "metadata": {
    "colab": {},
    "colab_type": "code",
    "id": "WGpfOK2EYPuD"
   },
   "outputs": [],
   "source": [
    "def learn_classifier(X_train, y_train, kernel):\n",
    "    classifier = sklearn.svm.SVC(kernel=kernel)\n",
    "    classifier.fit(X_train, y_train)\n",
    "    return classifier"
   ]
  },
  {
   "cell_type": "code",
   "execution_count": 17,
   "metadata": {
    "colab": {},
    "colab_type": "code",
    "id": "iOwIKVuvYPuF"
   },
   "outputs": [],
   "source": [
    "classifier = learn_classifier(X, y, 'linear')"
   ]
  },
  {
   "cell_type": "code",
   "execution_count": 18,
   "metadata": {
    "colab": {},
    "colab_type": "code",
    "id": "tvLsjxqKYPuL"
   },
   "outputs": [],
   "source": [
    "def evaluate_classifier(classifier, X_validation, y_validation):\n",
    "    predicted_labels = classifier.predict(X_validation)\n",
    "    training_accuracy = accuracy_score(y_validation, predicted_labels)\n",
    "    return training_accuracy"
   ]
  },
  {
   "cell_type": "code",
   "execution_count": 19,
   "metadata": {
    "colab": {},
    "colab_type": "code",
    "id": "pmdMkFIzYPuN"
   },
   "outputs": [
    {
     "name": "stdout",
     "output_type": "stream",
     "text": [
      "0.9544456006474737\n"
     ]
    }
   ],
   "source": [
    "accuracy = evaluate_classifier(classifier, X, y)\n",
    "print(accuracy)"
   ]
  },
  {
   "cell_type": "code",
   "execution_count": 20,
   "metadata": {
    "colab": {},
    "colab_type": "code",
    "id": "nq5AlMoUYPuQ"
   },
   "outputs": [
    {
     "data": {
      "text/plain": [
       "KFold(n_splits=4, random_state=1, shuffle=True)"
      ]
     },
     "execution_count": 20,
     "metadata": {},
     "output_type": "execute_result"
    }
   ],
   "source": [
    "kf = sklearn.model_selection.KFold(n_splits=4, random_state=1, shuffle=True)\n",
    "kf"
   ]
  },
  {
   "cell_type": "code",
   "execution_count": 33,
   "metadata": {
    "colab": {},
    "colab_type": "code",
    "id": "oJAjQyNKYPuT"
   },
   "outputs": [
    {
     "name": "stdout",
     "output_type": "stream",
     "text": [
      "linear : [0.9024277456647399, 0.9079768786127168, 0.9056429232192414, 0.90263644773358]\n",
      "rbf : [0.9102890173410405, 0.9116763005780347, 0.9100370027752082, 0.9144310823311749]\n",
      "poly : [0.909364161849711, 0.9172254335260116, 0.919981498612396, 0.9216003700277521]\n",
      "sigmoid : [0.8931791907514451, 0.9021965317919075, 0.8975485661424607, 0.8970860314523589]\n"
     ]
    },
    {
     "data": {
      "text/plain": [
       "'poly'"
      ]
     },
     "execution_count": 33,
     "metadata": {},
     "output_type": "execute_result"
    }
   ],
   "source": [
    "def best_model_selection(kf, X, y):\n",
    "    best_kernel = \"\"\n",
    "    best_accuracy = 0\n",
    "    for kernel in ['linear', 'rbf', 'poly', 'sigmoid']:\n",
    "        kernel_accuracies = []\n",
    "        for train_index, val_index in kf.split(X):\n",
    "            X_train,X_val = X[train_index], X[val_index]\n",
    "            y_train,y_val = y[train_index], y[val_index]\n",
    "            classifier = learn_classifier(X_train, y_train, kernel)\n",
    "            accuracy = evaluate_classifier(classifier, X_val, y_val)\n",
    "            kernel_accuracies.append(accuracy)\n",
    "        print(\"{} : {}\".format(kernel,kernel_accuracies))\n",
    "        avg_accuracy = np.mean(kernel_accuracies)\n",
    "        if avg_accuracy > best_accuracy:\n",
    "            best_accuracy = avg_accuracy\n",
    "            best_kernel = kernel\n",
    "\n",
    "    return best_kernel\n",
    "best_kernel = best_model_selection(kf, X, y)\n",
    "best_kernel"
   ]
  },
  {
   "cell_type": "code",
   "execution_count": 31,
   "metadata": {
    "colab": {},
    "colab_type": "code",
    "id": "qth7DPekYPuY"
   },
   "outputs": [],
   "source": [
    "def classify_tweets(tfidf, classifier, unlabeled_tweets):\n",
    "    processed_test_data = process_all(unlabeled_tweets)\n",
    "    testdata_csr_matrix = tfidf.transform(processed_test_data['text'])\n",
    "    predicted_labels = classifier.predict(testdata_csr_matrix)\n",
    "    return predicted_labels"
   ]
  },
  {
   "cell_type": "code",
   "execution_count": 32,
   "metadata": {
    "colab": {},
    "colab_type": "code",
    "id": "KKNMwVVgYPua"
   },
   "outputs": [
    {
     "name": "stdout",
     "output_type": "stream",
     "text": [
      "[1 1 1 1 1 1 0 1 0 0 1 1 1 1 1 1 0 0 1 0 0 1 0 0 0 0 0 1 0 0 1 0 1 1 1 1 0\n",
      " 0 1 1 0 0 0 1 1 1 0 0 0 1 0 1 1 1 1 0 1 1 1 0 1 0 1 1 1 1 1 1 1 0 0 1 1 1\n",
      " 1 1 1 1 1 0 0 1 0 1 0 1 1 0 1 0 1 0 0 0 1 0 0 1 0 1 1 1 1 1 1 0 0 0 0 1 0\n",
      " 1 0 0 0 0 0 0 1 0 0 0 0 0 0 1 0 0 1 1 0 0 0 1 1 1 1 1 0 1 0 0 0 1 1 0 0 1\n",
      " 0 1 0 1 0 0 1 1 0 1 0 1 1 0 0 0 1 1 1 1 0 1 1 0 1 1 0 0 1 0 0 0 1 0 1 0 0\n",
      " 0 1 0 1 1 1 1 0 1 1 1 0 0 0 1 0 0 0 0 1 0 0 1 0 1 0 1 1 1 1 0 0 0 0 1 1 0\n",
      " 0 0 0 0 0 1 1 1 0 0 0 0 0 0 1 1 0 0 0 1 0 1 0 0 0 1 1 0 1 1 0 0 1 1 1 0 1\n",
      " 0 0 0 0 1 1 1 1 1 1 0 0 1 1 0 0 1 1 0 0 0 1 1 1 0 1 0 0 1 1 0 1 1 0 1 1 1\n",
      " 1 0 1 1 1 1 0 1 0 1 0 1 1 0 0 1 1 1 1 0 0 1 0 1 1 0 0 0 1 1 1 0 0 1 0 1 0\n",
      " 1 0 1 1 1 1 1 0 0 1 1 0 0 1 0 0 0 0 1 1 0 1 1 1 0 0 1 1 0 1 1 1 1 0 1 0 1\n",
      " 0 0 1 1 1 0 1 0 0 0 0 1 0 0 0 1 1 0 0 0 0 0 1 0 1 0 0 1 0 1 0 0 1 1 0 0 1\n",
      " 1 0 1 1 1 1 0 0 1 0 1 1 0 0 0 1 1 0 1 1 1 0 1 0 1 1 0 0 1 1 0 1 1 0 0 0 1\n",
      " 0 0 1 0 0 0 1 1 1 1 0 0 1 1 1 1 0 1 1 0 0 0 1 1 0 1 0 0 1 0 0 0 1 0 0 1 1\n",
      " 0 0 1 0 0 1 0 0 0 1 0 1 1 1 1 1 1 0 1 0 0 0 1 1 0 0 0 1 1 1 1 0 0 0 0 0 1\n",
      " 1 0 0 0 0 0 1 1 0 1 1 0 0 0 1 1 0 1 0 0 1 0 0 1 0 0 0 0 1 0 0 1 1 1 1 1 1\n",
      " 1 0 1 0 1 1 0 1 1 1 0 1 0 0 0 0 1 1 1 0 1 1 1 1 1 1 0 1 1 0 1 1 0 0 0 1 1\n",
      " 1 0 1 0 0 0 1 0 1 0 1 1 1 1 1 1 1 1 0 1 0 0 0 0 1 1 1 0 1 1 1 1 1 0 1 0 1\n",
      " 1 0 0 1 1 1 1 0 1 0 1 0 0 0 0 0 0 0 1 0 0 1 1 1 1 1 1 0 0 0 1 1 1 0 1 0 0\n",
      " 0 1 1 0 0 0 0 1 1 1 1 1 1 1 0 0 0 0 1 1 0 0 1 0 0 1 0 0 0 0 1 0 1 1 1 1 0\n",
      " 0 1 0 0 1 0 1 1 1 1 1 0 0 1 0 1 0 1 0 0 1 0 1 0 0 1 0 1 0 1 1 1 0 1 1 1 1\n",
      " 1 1 0 0 0 0 1 0 1 1 1 0 0 0 1 1 1 1 1 1 1 0 1 0 0 1 0 0 0 1 1 0 0 1 1 1 1\n",
      " 0 0 1 0 0 0 0 0 1 1 0 0 0 1 1 1 0 1 1 1 0 1 0 1 1 1 1 0 0 0 1 1 1 1 1 0 0\n",
      " 0 1 0 1 0 1 0 0 1 0 0 0 0 1 1 1 1 0 1 0 1 0 0 1 1 1 1 1 1 0 1 1 1 0 0 1 0\n",
      " 0 1 0 1 1 1 1 0 1 0 0 1 1 0 1 0 0 1 0 0 1 1 0 1 1 1 1 0 0 1 0 1 1 1 1 1 1\n",
      " 0 0 0 1 0 0 0 0 1 0 0 1 0 1 1 0 0 1 0 0 0 0 0 0 0 0 1 0 0 0 0 1 1 1 0 1 1\n",
      " 1 1 1 0 0 1 1 0 1 1 0 0 0 0 0 0 1 1 1 0 1 0 0 1 0 0 0 0 1 1 1 1 0 0 0 0 1\n",
      " 1 1 0 1 1 0 0 1 0 1 0 1 0 0 1 0 0 0 0 0 1 1 1 1 0 1 0 1 0 1 0 1 1 1 1 0 1\n",
      " 1]\n"
     ]
    }
   ],
   "source": [
    "classifier = learn_classifier(X, y, best_kernel)\n",
    "unlabeled_tweets = pd.read_csv(\"tweets_test.csv\", na_filter=False)\n",
    "y_pred = classify_tweets(tfidf, classifier, unlabeled_tweets)\n",
    "print(y_pred)"
   ]
  },
  {
   "cell_type": "code",
   "execution_count": 35,
   "metadata": {},
   "outputs": [],
   "source": [
    "import openai\n",
    "import time\n",
    "from openai import OpenAI\n",
    "np.random.seed(4200)"
   ]
  },
  {
   "cell_type": "code",
   "execution_count": 36,
   "metadata": {},
   "outputs": [],
   "source": [
    "with open('openai-key.txt', 'r') as file:\n",
    "    openai_key = file.read().rstrip()"
   ]
  },
  {
   "cell_type": "code",
   "execution_count": 37,
   "metadata": {},
   "outputs": [],
   "source": [
    "client = OpenAI(api_key=openai_key)"
   ]
  },
  {
   "cell_type": "code",
   "execution_count": 38,
   "metadata": {},
   "outputs": [],
   "source": [
    "def chatGPT(client, input_string, prompt=\"You are a helpful assistant.\", model=\"gpt-3.5-turbo-0125\"):\n",
    "    response = client.chat.completions.create(\n",
    "        model=model,\n",
    "        messages=[\n",
    "            {\n",
    "              \"role\": \"system\",\n",
    "              \"content\": prompt\n",
    "            },\n",
    "            {\n",
    "              \"role\": \"user\",\n",
    "              \"content\": input_string\n",
    "            }\n",
    "        ],\n",
    "        temperature=0.7,\n",
    "        max_tokens=2048,\n",
    "        top_p=1\n",
    "    )\n",
    "    return response.choices[0].message.content"
   ]
  },
  {
   "cell_type": "code",
   "execution_count": 39,
   "metadata": {},
   "outputs": [],
   "source": [
    "def generate_prompt(initial_prompt, tweets, length_limit):\n",
    "    prompt = initial_prompt\n",
    "    index = 0\n",
    "    for tweet in tweets:\n",
    "        if len(prompt) + len(tweet) + 5 < length_limit:\n",
    "            index = index + 1\n",
    "            prompt = prompt + \" \\n{}. \".format(index) + tweet\n",
    "    return prompt, index"
   ]
  },
  {
   "cell_type": "code",
   "execution_count": 40,
   "metadata": {},
   "outputs": [
    {
     "data": {
      "text/plain": [
       "\"For each of the following tweets, predict the political inclination of the tweet.Label a single character 'D' if the tweet is democrat or 'R' if it's a republican. The label should be either 'D' or 'R' only \\n1. Trump's calling for trillion dollar tax cuts for Wall Street. It's time for them to pay their fair share. \\n2. Obama is losing credibility with Syrian opposition leaders https://t.co/bANRRu2ktN \\n3. Positive relationships between faith groups &amp; law enforcement build more resilient communities https://t.co/6pfrSKVE72 \\n4. Tune in now to watch @JoeBiden hit the trail for Hillary in Ohio: https://t.co/FjCws9BTYy \\n5. Happy Birthday to a great President of the United States, George H. W. Bush! https://t.co/YOIB2eFfHG\""
      ]
     },
     "metadata": {},
     "output_type": "display_data"
    },
    {
     "data": {
      "text/plain": [
       "'1. D\\n2. R\\n3. D\\n4. D\\n5. R'"
      ]
     },
     "execution_count": 40,
     "metadata": {},
     "output_type": "execute_result"
    }
   ],
   "source": [
    "predict_initial_prompt = (\"For each of the following tweets, predict the political inclination of the tweet.Label a single character 'D' if the tweet is democrat or 'R' if it's a republican. The label should be either 'D' or 'R' only\")\n",
    "\n",
    "some_tweets = (\"Trump's calling for trillion dollar tax cuts for Wall Street. It's time for them to pay their fair share.\",\n",
    "          \"Obama is losing credibility with Syrian opposition leaders https://t.co/bANRRu2ktN\",\n",
    "          \"Positive relationships between faith groups &amp; law enforcement build more resilient communities https://t.co/6pfrSKVE72\",\n",
    "          \"Tune in now to watch @JoeBiden hit the trail for Hillary in Ohio: https://t.co/FjCws9BTYy\",\n",
    "          \"Happy Birthday to a great President of the United States, George H. W. Bush! https://t.co/YOIB2eFfHG\")\n",
    "\n",
    "prompt_predict, count = generate_prompt(predict_initial_prompt, some_tweets, 2048)\n",
    "display(prompt_predict)\n",
    "chatGPT(client, prompt_predict,model = \"gpt-3.5-turbo\")"
   ]
  },
  {
   "cell_type": "code",
   "execution_count": 41,
   "metadata": {},
   "outputs": [],
   "source": [
    "# replace the model name of your choice\n",
    "model_name = \"gpt-3.5-turbo\""
   ]
  },
  {
   "cell_type": "code",
   "execution_count": 42,
   "metadata": {},
   "outputs": [
    {
     "data": {
      "text/plain": [
       "[\"For each of the following tweets, predict the political inclination of the tweet.Label a single character 'D' if the tweet is democrat or 'R' if it's a republican. The label should be either 'D' or 'R' only \\n1. RT @GovPenceIN: .@INDOT has been hard at work ensuring the Crossroads of America has the infrastructure to back that moniker up http://t.co… \\n2. Today at 4:15 PM ET: @JoeKennedy &amp; @PrattWiley answer your #VoterRegistrationDay questions. Share your question her… https://t.co/EbTaRpkXRK \\n3. RT @MSNBC: The First in the South Democratic Candidates Forum is live now! Stream it live at https://t.co/qBv7KnZBk0 #MSNBC2016 https://t.c… \\n4. NEBRASKA #VoteTrump TODAY!\\n#MakeAmericaGreatAgain #Trump2016\\nhttps://t.co/hGbesTbQci \\n5. Bush administration foreign policy positions =\\nForeign policy positions at #GOPDebate\\n#TransformationTuesday? https://t.co/KOiigTggcf \\n6. Democrats will continue to stand with women and fight for their right to a safe and legal abortion. https://t.co/GM1D5eItd0 \\n7. The NRA ❤️s Donald Trump: https://t.co/7p7n6PKWtY https://t.co/yN1XBh9djl \\n8. The #StartYourEnginesTour made it to Jeffersonville! https://t.co/sH8GLcMtlh \\n9. True in 2008, true today. https://t.co/kjRH32rwFT \\n10. Last night's #GOPDebate proved what's at risk in 2016. Tune in Sunday for the #DemDebate: https://t.co/8hZUGAExGp https://t.co/JT2xVnfbdT \\n11. Ampliemos las oportunidades para todos. Entérate de nuestro plan para la comunidad latina. https://t.co/4AuBXyghaf https://t.co/Wg7N0BezvR \\n12. Two minutes of your time to help change Washington: http://t.co/mGDxPF9TYz Weigh in now. http://t.co/1WiMhfhmEd \\n13. RT @GovPenceIN: More than half a million veterans call Indiana home. To all of our Hoosier veterans, thank you for your service #VeteransDay \\n14. Great discussion w/my former @urichmond student John McAuliff &amp; a group of impressive fellows from @Coro_Pittsburgh http://t.co/sag4uxyekQ \\n15. RT @GOPconvention: 👋 @MarshaBlackburn hanging in the Digital Loft at the @GOPconvention. #RNCinCLE https://t.co/lvOY7jDMpS\",\n",
       " 'For each of the following tweets, predict the political inclination of the tweet.Label a single character \\'D\\' if the tweet is democrat or \\'R\\' if it\\'s a republican. The label should be either \\'D\\' or \\'R\\' only \\n1. RT @GOPconvention: 👋 @MarshaBlackburn hanging in the Digital Loft at the @GOPconvention. #RNCinCLE https://t.co/lvOY7jDMpS \\n2. 3 years after the Benghazi attack...https://t.co/GifKvttTKw https://t.co/UMUzSKoLdo \\n3. Excited to join @RTDNEWS today for a Public Square on how Congress &amp; the President make our nation’s most impt decision – when to go to war \\n4. Obama’s speech was more geared to “playing catchup to the national mood on terrorism” and fixing a political problem https://t.co/LyIKdGsnkb \\n5. Look forward to joining @mikemosswtop &amp; @JoanJWTOP at 8:40AM for a discussion on my Pre-K bill &amp; more. Tune in! http://t.co/mU1UxKVP6I \\n6. \"@Knight276:  @C4Constitution trump right again #With_Cruz_you_lose! Nobody supports Canuck Cruz #MakeAmericaGreatAgain  #trump2016 \\n7. RT @Indiana2016: This week\\'s \"Indiana Bicentennial Minute\" is on Abraham Lincoln who grew up in Indiana!  https://t.co/zrqQyUb4IV \\n8. Enough of the scandals and lies ➡️ https://t.co/29LEzjWPwq #DemsInPhilly #EnoughClinton https://t.co/F09IKAqokN \\n9. Congrats to Michelle Janine Howard on becoming the first woman to attain the rank of four-star Admiral in the @USNavy\\'s 238-year history! \\n10. RT @DanScavino: Join @realDonaldTrump on his official social media platforms during tonight\\'s debate ~ as @TeamTrump manages rapid response… \\n11. National Review: RNC Chairman Reince Priebus has \"left his mark\" on the Republican Party: https://t.co/7zgY7BhyKh \\n12. Must Read @RTDNEWS piece on the positive impact FASTC will have on Blackstone &amp; entire region surrounding Ft Pickett http://t.co/UaI1evpt4c \\n13. I had the pleasure of meeting the wonderful young men and women of the US Navy Sea Cadet Corps-Flying Tigers! https://t.co/Qhl9BuTyFI \\n14. #WVPrimary #VoteTrump #Trump2016\\nhttps://t.co/ihDWRMdy98\\nhttps://t.co/VSStoanoDb',\n",
       " 'For each of the following tweets, predict the political inclination of the tweet.Label a single character \\'D\\' if the tweet is democrat or \\'R\\' if it\\'s a republican. The label should be either \\'D\\' or \\'R\\' only \\n1. Celebrate the power of women in politics. RSVP to @All_In_Together\\'s #MyVoice event Feb. 29: https://t.co/vlPEcHo07j https://t.co/cs0KBv4tMv \\n2. More than 50 million Americans are living with a disability. Vote for the candidate who supports and respects them. https://t.co/4aDEyZ24g9 \\n3. RT @DWStweets: This Thanksgiving, I\\'m thankful for all the #progress we\\'ve made under @POTUS. #ThanksObama! https://t.co/ie3zlAIMmj \\n4. #WVPrimary #VoteTrump #Trump2016\\nhttps://t.co/ihDWRMdy98\\nhttps://t.co/VSStoanoDb \\n5. RT @indgop: (2/2) \"...of how GOP fiscal policies make a difference in our economy.\"- spox @vetstrategies \\n6. Trump\\'s nuanced plan for combatting the very complicated topic of ISIS. #BetterThanThis https://t.co/4sMzVsXk23 \\n7. \"She doesn\\'t just see one America. She sees all of America &amp; knows that we need all of us.\" —@CoryBooker on Hillary\\nhttps://t.co/EgkawPBAta \\n8. I would have had millions of votes more in the primaries (than Crooked Hillary) if I only had one opponent, instead of sixteen. Broke record \\n9. Saturday is the last day for early voting in VA! Learn more about how to vote tomorrow by visiting http://t.co/6pkvvJY1mP \\n10. Thank you Kenansville, North Carolina! Remember- on November 8th, that special interest gravy train is coming to a… https://t.co/AysJRMzvKw \\n11. RT @GovPenceIN: #ICYMI: As #INLegis reconvenes today, we\\'ve rolled out our #GovAgenda, prioritizing jobs, roads, ed &amp; healthcare https://t.… \\n12. RT @IGNITE_National: Tell a girl to run - for office! #DeclareYourAmbition at https://t.co/Gcthrb8QwO https://t.co/AAIOYi1hFA \\n13. “Let America ‘be that great strong land of love.’ That is more than poetry…that’s a prayer.” —Hillary quoting Langston Hughes \\n14. Great to hear Goochland County resident Charles\\' personal story at today\\'s @SenateAging hearing on technology helping seniors',\n",
       " 'For each of the following tweets, predict the political inclination of the tweet.Label a single character \\'D\\' if the tweet is democrat or \\'R\\' if it\\'s a republican. The label should be either \\'D\\' or \\'R\\' only \\n1. .@HillaryClinton\\'s 2008 Campaign And Supporters Trafficked In Rumors About Obama\\'s Heritage #DebateNight \\nhttps://t.co/6EEOAaCiNv \\n2. Great to hear Goochland County resident Charles\\' personal story at today\\'s @SenateAging hearing on technology helping seniors \\n3. We don\\'t want another Clinton in the White House. Pledge to #StopHillary ➡ https://t.co/A4PBogeZgK https://t.co/DWqZiGe2TQ \\n4. In ten years, we can generate enough renewable energy to power every home in America. #EarthDay\\nhttps://t.co/k7EGD4G4dK \\n5. Gov.Kasich of Ohio just stated on a morning show that he doesn\\'t watch politics or anything on television, he only watches the @GolfChannel \\n6. Sanders swept all 3 weekend primaries by wide margins, giving his camp another boost of momentum before WI next week https://t.co/LHek9rodC7 \\n7. \"[T]he RNC raised about twice as much as its Democratic counterpart, and had nearly $2 million more on hand.\" http://t.co/DWBF6kSpDB']"
      ]
     },
     "execution_count": 42,
     "metadata": {},
     "output_type": "execute_result"
    }
   ],
   "source": [
    "def generate_prompts(initial_prompt, tweets, length_limit):\n",
    "    prompts = []\n",
    "    while(len(tweets) > 0):\n",
    "        [prompt, count] = generate_prompt(initial_prompt, tweets, length_limit)\n",
    "        prompts.append(prompt)\n",
    "        tweets = tweets[count:]\n",
    "        \n",
    "    return prompts\n",
    "    \n",
    "sample_tweets = tweets.sample(50)\n",
    "prompts = generate_prompts(predict_initial_prompt, sample_tweets[\"text\"].to_list(), 2048)\n",
    "prompts"
   ]
  },
  {
   "cell_type": "code",
   "execution_count": null,
   "metadata": {},
   "outputs": [],
   "source": [
    "def response_to_predictions(response_string):\n",
    "    predictions = []\n",
    "    \n",
    "    results = response_string.split('\\n')\n",
    "    for res in results:\n",
    "        predictions.append(res.split('.')[-1].strip())\n",
    "\n",
    "    return predictions"
   ]
  },
  {
   "cell_type": "code",
   "execution_count": 47,
   "metadata": {},
   "outputs": [
    {
     "name": "stdout",
     "output_type": "stream",
     "text": [
      "Processing prompt: For each of the following tweets, predict the political inclination of the tweet.Label a single character 'D' if the tweet is democrat or 'R' if it's a republican. The label should be either 'D' or 'R' only \n",
      "1. RT @GovPenceIN: .@INDOT has been hard at work ensuring the Crossroads of America has the infrastructure to back that moniker up http://t.co… \n",
      "2. Today at 4:15 PM ET: @JoeKennedy &amp; @PrattWiley answer your #VoterRegistrationDay questions. Share your question her… https://t.co/EbTaRpkXRK \n",
      "3. RT @MSNBC: The First in the South Democratic Candidates Forum is live now! Stream it live at https://t.co/qBv7KnZBk0 #MSNBC2016 https://t.c… \n",
      "4. NEBRASKA #VoteTrump TODAY!\n",
      "#MakeAmericaGreatAgain #Trump2016\n",
      "https://t.co/hGbesTbQci \n",
      "5. Bush administration foreign policy positions =\n",
      "Foreign policy positions at #GOPDebate\n",
      "#TransformationTuesday? https://t.co/KOiigTggcf \n",
      "6. Democrats will continue to stand with women and fight for their right to a safe and legal abortion. https://t.co/GM1D5eItd0 \n",
      "7. The NRA ❤️s Donald Trump: https://t.co/7p7n6PKWtY https://t.co/yN1XBh9djl \n",
      "8. The #StartYourEnginesTour made it to Jeffersonville! https://t.co/sH8GLcMtlh \n",
      "9. True in 2008, true today. https://t.co/kjRH32rwFT \n",
      "10. Last night's #GOPDebate proved what's at risk in 2016. Tune in Sunday for the #DemDebate: https://t.co/8hZUGAExGp https://t.co/JT2xVnfbdT \n",
      "11. Ampliemos las oportunidades para todos. Entérate de nuestro plan para la comunidad latina. https://t.co/4AuBXyghaf https://t.co/Wg7N0BezvR \n",
      "12. Two minutes of your time to help change Washington: http://t.co/mGDxPF9TYz Weigh in now. http://t.co/1WiMhfhmEd \n",
      "13. RT @GovPenceIN: More than half a million veterans call Indiana home. To all of our Hoosier veterans, thank you for your service #VeteransDay \n",
      "14. Great discussion w/my former @urichmond student John McAuliff &amp; a group of impressive fellows from @Coro_Pittsburgh http://t.co/sag4uxyekQ \n",
      "15. RT @GOPconvention: 👋 @MarshaBlackburn hanging in the Digital Loft at the @GOPconvention. #RNCinCLE https://t.co/lvOY7jDMpS\n",
      "Processing prompt: For each of the following tweets, predict the political inclination of the tweet.Label a single character 'D' if the tweet is democrat or 'R' if it's a republican. The label should be either 'D' or 'R' only \n",
      "1. RT @GOPconvention: 👋 @MarshaBlackburn hanging in the Digital Loft at the @GOPconvention. #RNCinCLE https://t.co/lvOY7jDMpS \n",
      "2. 3 years after the Benghazi attack...https://t.co/GifKvttTKw https://t.co/UMUzSKoLdo \n",
      "3. Excited to join @RTDNEWS today for a Public Square on how Congress &amp; the President make our nation’s most impt decision – when to go to war \n",
      "4. Obama’s speech was more geared to “playing catchup to the national mood on terrorism” and fixing a political problem https://t.co/LyIKdGsnkb \n",
      "5. Look forward to joining @mikemosswtop &amp; @JoanJWTOP at 8:40AM for a discussion on my Pre-K bill &amp; more. Tune in! http://t.co/mU1UxKVP6I \n",
      "6. \"@Knight276:  @C4Constitution trump right again #With_Cruz_you_lose! Nobody supports Canuck Cruz #MakeAmericaGreatAgain  #trump2016 \n",
      "7. RT @Indiana2016: This week's \"Indiana Bicentennial Minute\" is on Abraham Lincoln who grew up in Indiana!  https://t.co/zrqQyUb4IV \n",
      "8. Enough of the scandals and lies ➡️ https://t.co/29LEzjWPwq #DemsInPhilly #EnoughClinton https://t.co/F09IKAqokN \n",
      "9. Congrats to Michelle Janine Howard on becoming the first woman to attain the rank of four-star Admiral in the @USNavy's 238-year history! \n",
      "10. RT @DanScavino: Join @realDonaldTrump on his official social media platforms during tonight's debate ~ as @TeamTrump manages rapid response… \n",
      "11. National Review: RNC Chairman Reince Priebus has \"left his mark\" on the Republican Party: https://t.co/7zgY7BhyKh \n",
      "12. Must Read @RTDNEWS piece on the positive impact FASTC will have on Blackstone &amp; entire region surrounding Ft Pickett http://t.co/UaI1evpt4c \n",
      "13. I had the pleasure of meeting the wonderful young men and women of the US Navy Sea Cadet Corps-Flying Tigers! https://t.co/Qhl9BuTyFI \n",
      "14. #WVPrimary #VoteTrump #Trump2016\n",
      "https://t.co/ihDWRMdy98\n",
      "https://t.co/VSStoanoDb\n",
      "Processing prompt: For each of the following tweets, predict the political inclination of the tweet.Label a single character 'D' if the tweet is democrat or 'R' if it's a republican. The label should be either 'D' or 'R' only \n",
      "1. Celebrate the power of women in politics. RSVP to @All_In_Together's #MyVoice event Feb. 29: https://t.co/vlPEcHo07j https://t.co/cs0KBv4tMv \n",
      "2. More than 50 million Americans are living with a disability. Vote for the candidate who supports and respects them. https://t.co/4aDEyZ24g9 \n",
      "3. RT @DWStweets: This Thanksgiving, I'm thankful for all the #progress we've made under @POTUS. #ThanksObama! https://t.co/ie3zlAIMmj \n",
      "4. #WVPrimary #VoteTrump #Trump2016\n",
      "https://t.co/ihDWRMdy98\n",
      "https://t.co/VSStoanoDb \n",
      "5. RT @indgop: (2/2) \"...of how GOP fiscal policies make a difference in our economy.\"- spox @vetstrategies \n",
      "6. Trump's nuanced plan for combatting the very complicated topic of ISIS. #BetterThanThis https://t.co/4sMzVsXk23 \n",
      "7. \"She doesn't just see one America. She sees all of America &amp; knows that we need all of us.\" —@CoryBooker on Hillary\n",
      "https://t.co/EgkawPBAta \n",
      "8. I would have had millions of votes more in the primaries (than Crooked Hillary) if I only had one opponent, instead of sixteen. Broke record \n",
      "9. Saturday is the last day for early voting in VA! Learn more about how to vote tomorrow by visiting http://t.co/6pkvvJY1mP \n",
      "10. Thank you Kenansville, North Carolina! Remember- on November 8th, that special interest gravy train is coming to a… https://t.co/AysJRMzvKw \n",
      "11. RT @GovPenceIN: #ICYMI: As #INLegis reconvenes today, we've rolled out our #GovAgenda, prioritizing jobs, roads, ed &amp; healthcare https://t.… \n",
      "12. RT @IGNITE_National: Tell a girl to run - for office! #DeclareYourAmbition at https://t.co/Gcthrb8QwO https://t.co/AAIOYi1hFA \n",
      "13. “Let America ‘be that great strong land of love.’ That is more than poetry…that’s a prayer.” —Hillary quoting Langston Hughes \n",
      "14. Great to hear Goochland County resident Charles' personal story at today's @SenateAging hearing on technology helping seniors\n",
      "Processing prompt: For each of the following tweets, predict the political inclination of the tweet.Label a single character 'D' if the tweet is democrat or 'R' if it's a republican. The label should be either 'D' or 'R' only \n",
      "1. .@HillaryClinton's 2008 Campaign And Supporters Trafficked In Rumors About Obama's Heritage #DebateNight \n",
      "https://t.co/6EEOAaCiNv \n",
      "2. Great to hear Goochland County resident Charles' personal story at today's @SenateAging hearing on technology helping seniors \n",
      "3. We don't want another Clinton in the White House. Pledge to #StopHillary ➡ https://t.co/A4PBogeZgK https://t.co/DWqZiGe2TQ \n",
      "4. In ten years, we can generate enough renewable energy to power every home in America. #EarthDay\n",
      "https://t.co/k7EGD4G4dK \n",
      "5. Gov.Kasich of Ohio just stated on a morning show that he doesn't watch politics or anything on television, he only watches the @GolfChannel \n",
      "6. Sanders swept all 3 weekend primaries by wide margins, giving his camp another boost of momentum before WI next week https://t.co/LHek9rodC7 \n",
      "7. \"[T]he RNC raised about twice as much as its Democratic counterpart, and had nearly $2 million more on hand.\" http://t.co/DWBF6kSpDB\n"
     ]
    },
    {
     "data": {
      "text/plain": [
       "['R',\n",
       " 'D',\n",
       " 'D',\n",
       " 'R',\n",
       " 'R',\n",
       " 'D',\n",
       " 'R',\n",
       " 'R',\n",
       " 'D',\n",
       " 'D',\n",
       " 'D',\n",
       " 'D',\n",
       " 'R',\n",
       " 'D',\n",
       " 'R',\n",
       " 'R',\n",
       " 'R',\n",
       " 'D',\n",
       " 'D',\n",
       " 'D',\n",
       " 'R',\n",
       " 'R',\n",
       " 'R',\n",
       " 'D',\n",
       " 'R',\n",
       " 'R',\n",
       " 'D',\n",
       " 'D',\n",
       " 'R',\n",
       " 'D',\n",
       " 'D',\n",
       " 'D',\n",
       " 'R',\n",
       " 'R',\n",
       " 'R',\n",
       " 'D',\n",
       " 'R',\n",
       " 'D',\n",
       " 'R',\n",
       " 'R',\n",
       " 'D',\n",
       " 'D',\n",
       " 'R',\n",
       " 'R',\n",
       " 'D',\n",
       " 'R',\n",
       " 'D',\n",
       " 'R',\n",
       " 'D',\n",
       " 'R']"
      ]
     },
     "execution_count": 47,
     "metadata": {},
     "output_type": "execute_result"
    }
   ],
   "source": [
    "def tweets_to_predictions(predict_initial_prompt, tweet_list, model_name='gpt-3.5-turbo-0125', verbose=False):\n",
    "    all_predictions = []\n",
    "    prompt_list = generate_prompts(predict_initial_prompt, tweet_list, 2048)\n",
    "    for prompt in prompt_list:\n",
    "        if verbose:\n",
    "            print(\"Processing prompt: {}\".format(prompt))\n",
    "        response = chatGPT(client, prompt, prompt=predict_initial_prompt, model=model_name)\n",
    "        time.sleep(10)\n",
    "        predictions = response_to_predictions(response)\n",
    "        all_predictions = all_predictions + predictions\n",
    "    return all_predictions\n",
    "\n",
    "\n",
    "all_predictions = tweets_to_predictions(predict_initial_prompt, sample_tweets[\"text\"].to_list(), model_name=model_name, verbose=True)\n",
    "\n",
    "all_predictions"
   ]
  },
  {
   "cell_type": "code",
   "execution_count": 45,
   "metadata": {},
   "outputs": [],
   "source": [
    "train_tweets_sampled, test_tweets_sampled = sklearn.model_selection.train_test_split(tweets, test_size=0.05, random_state=4200)"
   ]
  },
  {
   "cell_type": "code",
   "execution_count": 46,
   "metadata": {},
   "outputs": [
    {
     "data": {
      "text/plain": [
       "0.9260115606936417"
      ]
     },
     "execution_count": 46,
     "metadata": {},
     "output_type": "execute_result"
    }
   ],
   "source": [
    "# processing train data\n",
    "train_tweets_sampled_processed = process_all(train_tweets_sampled)\n",
    "# creating features from train data\n",
    "(tfidf_1, X_train_sampled) = create_features(train_tweets_sampled_processed, processed_stopwords)\n",
    "# creating output labels for train data\n",
    "y_train_sampled = create_labels(train_tweets_sampled)\n",
    "# creating classifier using the best kernel\n",
    "classifier_1 = learn_classifier(X_train_sampled, y_train_sampled, best_kernel)\n",
    "\n",
    "# getting predictions from SVM classifier\n",
    "y_pred_sampled = classify_tweets(tfidf_1, classifier_1, test_tweets_sampled[['text']])\n",
    "# getting labels for test data\n",
    "y_test_sampled = create_labels(test_tweets_sampled)\n",
    "\n",
    "# calculating accuracy for the SVM classifier\n",
    "correct = 0\n",
    "for label, response in zip(y_test_sampled, y_pred_sampled):\n",
    "    if label == response:\n",
    "        correct += 1\n",
    "accuracy_svm = correct / len(y_pred_sampled)\n",
    "accuracy_svm"
   ]
  },
  {
   "cell_type": "code",
   "execution_count": 48,
   "metadata": {},
   "outputs": [],
   "source": [
    "all_predictions = tweets_to_predictions(predict_initial_prompt, test_tweets_sampled[\"text\"].to_list(), model_name=model_name)"
   ]
  },
  {
   "cell_type": "code",
   "execution_count": 55,
   "metadata": {},
   "outputs": [],
   "source": [
    "modified_predictions = []\n",
    "changed = 0\n",
    "half_anomalies_count = sum(1 for value in all_predictions if value not in ['R','D']) / 2\n",
    "for label in all_predictions:\n",
    "    if label not in ['R','D'] :\n",
    "        if changed < half_anomalies_count:\n",
    "            modified_predictions.append('R')\n",
    "        else:\n",
    "            modified_predictions.append('D')\n",
    "        changed += 1\n",
    "    else:\n",
    "        modified_predictions.append(label)"
   ]
  },
  {
   "cell_type": "code",
   "execution_count": 56,
   "metadata": {},
   "outputs": [
    {
     "data": {
      "text/plain": [
       "0.8601156069364162"
      ]
     },
     "execution_count": 56,
     "metadata": {},
     "output_type": "execute_result"
    }
   ],
   "source": [
    "test_tweets_labels = create_labels(test_tweets_sampled)\n",
    "predictions_map = {'R' : 0, 'D' : 1}\n",
    "new_predictions = [predictions_map[value] for value in modified_predictions]\n",
    "accuracy = accuracy_score(test_tweets_labels, new_predictions)\n",
    "accuracy"
   ]
  }
 ],
 "metadata": {
  "colab": {
   "collapsed_sections": [],
   "name": "hw3.ipynb",
   "provenance": []
  },
  "kernelspec": {
   "display_name": "Python 3 (ipykernel)",
   "language": "python",
   "name": "python3"
  },
  "language_info": {
   "codemirror_mode": {
    "name": "ipython",
    "version": 3
   },
   "file_extension": ".py",
   "mimetype": "text/x-python",
   "name": "python",
   "nbconvert_exporter": "python",
   "pygments_lexer": "ipython3",
   "version": "3.11.5"
  }
 },
 "nbformat": 4,
 "nbformat_minor": 4
}
